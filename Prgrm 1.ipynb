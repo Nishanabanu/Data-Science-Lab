{
 "cells": [
  {
   "cell_type": "code",
   "execution_count": 44,
   "id": "feddde82",
   "metadata": {},
   "outputs": [
    {
     "name": "stdout",
     "output_type": "stream",
     "text": [
      "Arithmetic Operations\n",
      "\n",
      "x: 5\n",
      "y: 10\n",
      "\n",
      "Addition: 15\n",
      "Substraction: -5\n",
      "Multiplication: 50\n",
      "Division: 0.5\n",
      "\n",
      "Boolean operations\n",
      "\n",
      "x Greaterthan y : False\n",
      "x Lesserthan y : True\n",
      "x Equal y : False\n",
      "x Not equal y : True\n"
     ]
    }
   ],
   "source": [
    "#arithmetic operations\n",
    "print(\"Arithmetic Operations\")\n",
    "x = 5\n",
    "y = 10\n",
    "print(\"\\nx:\",x)\n",
    "print(\"y:\",y)\n",
    "print(\"\\nAddition:\",x+y)\n",
    "print(\"Substraction:\",x-y)\n",
    "print(\"Multiplication:\",x*y)\n",
    "print(\"Division:\",x/y)\n",
    "\n",
    "#boolean operations\n",
    "print(\"\\nBoolean operations\")\n",
    "print(\"\\nx Greaterthan y :\",x>y)\n",
    "print(\"x Lesserthan y :\",x<y)\n",
    "print(\"x Equal y :\",x==y)\n",
    "print(\"x Not equal y :\",x!=y)"
   ]
  },
  {
   "cell_type": "code",
   "execution_count": 60,
   "id": "93f30629",
   "metadata": {},
   "outputs": [
    {
     "name": "stdout",
     "output_type": "stream",
     "text": [
      "String Operations\n",
      "String 1: hellooo\n",
      "String 2:  python\n",
      "Comparison:  False\n",
      "Concatenation:  hellooo python\n",
      "Capitelize : Hellooo\n",
      "length : 7\n",
      "character at position 2: p\n",
      "slicing: llo\n",
      "Upper Case :  PYTHON\n",
      "Lower Case :  python\n",
      "Numeric or Not : False\n"
     ]
    }
   ],
   "source": [
    "#string operations\n",
    "print(\"String Operations\")\n",
    "str1=\"hellooo\"\n",
    "str2=\" python\"\n",
    "print(\"String 1:\",str1)\n",
    "print(\"String 2:\",str2)\n",
    "\n",
    "#compare strings\n",
    "print(\"Comparison: \",str1 == str2)\n",
    "\n",
    "# concatenation\n",
    "result = str1 + str2\n",
    "print(\"Concatenation: \",result)\n",
    "\n",
    "#capitelize\n",
    "print(\"Capitelize :\",str1.capitalize())\n",
    "\n",
    "# count length  string\n",
    "print(\"length :\",len(str1))\n",
    "\n",
    "#position\n",
    "print(\"character at position 2:\",str2[1])\n",
    "\n",
    "#slicing\n",
    "print(\"slicing:\",str1[2:5])\n",
    "\n",
    "#uppercase\n",
    "print(\"Upper Case :\",str2.upper())\n",
    "\n",
    "#lowercase\n",
    "print(\"Lower Case :\",str2.lower())\n",
    "\n",
    "#Numeric\n",
    "print(\"Numeric or Not :\",str1.isnumeric())"
   ]
  },
  {
   "cell_type": "code",
   "execution_count": 36,
   "id": "332e2e5a",
   "metadata": {},
   "outputs": [
    {
     "name": "stdout",
     "output_type": "stream",
     "text": [
      "List Operations\n",
      "Original List: ['apple', 'banana', 'orange']\n",
      "Updated List : ['apple', 'banana', 'orange', 'grapes']\n",
      "Removed List : ['apple', 'orange', 'grapes']\n",
      "Total Elements : 3\n",
      "Sorted List : ['apple', 'grapes', 'orange']\n"
     ]
    }
   ],
   "source": [
    "#List operations\n",
    "print(\"List Operations\")\n",
    "fruits = ['apple', 'banana', 'orange']\n",
    "print('Original List:', fruits)\n",
    "\n",
    "#append\n",
    "fruits.append(\"grapes\")\n",
    "print(\"Updated List :\",fruits)\n",
    "\n",
    "#remove\n",
    "fruits.remove(\"banana\")\n",
    "print(\"Removed List :\",fruits)\n",
    "\n",
    "#total elements\n",
    "print(\"Total Elements :\",len(fruits))\n",
    "\n",
    "#sort\n",
    "fruits.sort()\n",
    "print(\"Sorted List :\",fruits)"
   ]
  },
  {
   "cell_type": "code",
   "execution_count": 58,
   "id": "6e2d7906",
   "metadata": {},
   "outputs": [
    {
     "name": "stdout",
     "output_type": "stream",
     "text": [
      "Dictionary\n",
      "{1: 'Abhi', 2: 'Banu', 3: 'Yadu', 4: 'Sinu'}\n",
      "Length: 4\n",
      "New Dictionary : {1: 'Abhi', 2: 'Banu', 3: 'Yadu', 4: 'Sinu', 5: 'Finzz'}\n",
      "Updated Dictionary : {1: 'Abhi', 2: 'Banu', 3: 'Thezi', 4: 'Sinu', 5: 'Finzz'}\n",
      "Removed Dictionary : {1: 'Abhi', 2: 'Banu', 3: 'Thezi', 4: 'Sinu'}\n"
     ]
    }
   ],
   "source": [
    "#dictionay\n",
    "print(\"Dictionary\")\n",
    "# Creating an empty Dictionary       \n",
    "Dict = {\n",
    "    1: \"Abhi\",\n",
    "    2: \"Banu\",\n",
    "    3: \"Yadu\",\n",
    "    4: \"Sinu\"\n",
    "}       \n",
    "print(Dict)\n",
    "\n",
    "#length\n",
    "print(\"Length:\",len(Dict))\n",
    "\n",
    "#add item\n",
    "Dict[5]=\"Finzz\"\n",
    "print(\"New Dictionary :\",Dict)\n",
    "\n",
    "#update\n",
    "Dict.update({3:\"Thezi\"})\n",
    "print(\"Updated Dictionary :\",Dict)\n",
    "\n",
    "#remove item\n",
    "Dict.pop(5)\n",
    "print(\"Removed Dictionary :\",Dict)\n"
   ]
  },
  {
   "cell_type": "code",
   "execution_count": null,
   "id": "e7e1f1cc",
   "metadata": {},
   "outputs": [],
   "source": [
    "#function\n",
    "print(\"Function\")\n"
   ]
  }
 ],
 "metadata": {
  "kernelspec": {
   "display_name": "Python 3 (ipykernel)",
   "language": "python",
   "name": "python3"
  },
  "language_info": {
   "codemirror_mode": {
    "name": "ipython",
    "version": 3
   },
   "file_extension": ".py",
   "mimetype": "text/x-python",
   "name": "python",
   "nbconvert_exporter": "python",
   "pygments_lexer": "ipython3",
   "version": "3.10.12"
  }
 },
 "nbformat": 4,
 "nbformat_minor": 5
}
