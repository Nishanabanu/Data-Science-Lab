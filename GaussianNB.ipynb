{
 "cells": [
  {
   "cell_type": "code",
   "execution_count": 3,
   "id": "9948f89c-3df2-403c-bf76-9986c70887b4",
   "metadata": {},
   "outputs": [
    {
     "name": "stdout",
     "output_type": "stream",
     "text": [
      "Accuracy :100.00%\n"
     ]
    }
   ],
   "source": [
    "import numpy as np\n",
    "from sklearn import datasets\n",
    "from sklearn.model_selection import train_test_split\n",
    "from sklearn.naive_bayes import GaussianNB\n",
    "from sklearn.metrics import accuracy_score\n",
    "#Load the Iris dataset\n",
    "iris=datasets.load_iris()\n",
    "X=iris.data #Features\n",
    "y=iris.target #Target(labels)\n",
    "#Split the data into training and testing sets\n",
    "X_train,X_test,y_train,y_test=train_test_split(X,y,test_size=0.2,random_state=42)\n",
    "#Create a Gaussian Naive Bayes classifier\n",
    "nb_classifier=GaussianNB()\n",
    "#Train the classifier using the training data\n",
    "nb_classifier.fit(X_train,y_train)\n",
    "#Make predictions on the testing data\n",
    "y_pred=nb_classifier.predict(X_test)\n",
    "#Calculate the accuracy of the classifier\n",
    "accuracy=accuracy_score(y_test,y_pred)\n",
    "print(f'Accuracy :{accuracy *100:.2f}%')\n"
   ]
  },
  {
   "cell_type": "code",
   "execution_count": null,
   "id": "26e6c1ac-3a42-41f4-907d-bb9ed313d6d7",
   "metadata": {},
   "outputs": [],
   "source": []
  }
 ],
 "metadata": {
  "kernelspec": {
   "display_name": "Python 3 (ipykernel)",
   "language": "python",
   "name": "python3"
  },
  "language_info": {
   "codemirror_mode": {
    "name": "ipython",
    "version": 3
   },
   "file_extension": ".py",
   "mimetype": "text/x-python",
   "name": "python",
   "nbconvert_exporter": "python",
   "pygments_lexer": "ipython3",
   "version": "3.11.9"
  }
 },
 "nbformat": 4,
 "nbformat_minor": 5
}
