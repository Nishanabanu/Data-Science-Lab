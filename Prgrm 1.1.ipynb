{
 "cells": [
  {
   "cell_type": "code",
   "execution_count": 1,
   "id": "eaceb540",
   "metadata": {},
   "outputs": [
    {
     "name": "stdout",
     "output_type": "stream",
     "text": [
      "enter the name :Banu\n",
      "enter the age:21\n",
      "first dictionary is: {'name': 'Banu', 'age': '21'}\n",
      "enter the color:Black\n",
      "enter the flower name:Rose\n",
      "second dictionary is: {'color': 'Black', 'flower': 'Rose'}\n",
      "merge dictionary is {'name': 'Banu', 'age': '21', 'color': 'Black', 'flower': 'Rose'}\n"
     ]
    }
   ],
   "source": [
    "#merge dictionaries\n",
    "\n",
    "d1={}\n",
    "name=input(\"enter the name :\")\n",
    "age=input(\"enter the age:\")\n",
    "d1['name']=name\n",
    "d1['age']=age\n",
    "print(\"first dictionary is:\",d1)\n",
    "d2={}\n",
    "color=input(\"enter the color:\")\n",
    "flower=input(\"enter the flower name:\")\n",
    "d2['color']=color\n",
    "d2['flower']=flower\n",
    "print(\"second dictionary is:\",d2)\n",
    "d3=d1\n",
    "d1.update(d2)\n",
    "print(\"merge dictionary is\",d3)\n"
   ]
  },
  {
   "cell_type": "code",
   "execution_count": 2,
   "id": "3343788f",
   "metadata": {},
   "outputs": [
    {
     "name": "stdout",
     "output_type": "stream",
     "text": [
      "Largest element is: 99\n"
     ]
    }
   ],
   "source": [
    "#largest number\n",
    "list1 = [10, 20, 4, 45, 99]\n",
    "list1.sort()\n",
    "print(\"Largest element is:\", list1[-1])"
   ]
  },
  {
   "cell_type": "code",
   "execution_count": 8,
   "id": "b77b55c4",
   "metadata": {},
   "outputs": [
    {
     "name": "stdout",
     "output_type": "stream",
     "text": [
      "Original list : [5, 3, 4, 2, 1, 3, 5, 2, 8]\n",
      "Remove Duplicates : [5, 3, 4, 2, 1, 8]\n"
     ]
    }
   ],
   "source": [
    "# Python code to remove duplicate elements\n",
    "num=[5,3,4,2,1,3,5,2,8]\n",
    "print(\"Original list :\",num)\n",
    "res=[]\n",
    "for i in num:\n",
    "    if i not in res:\n",
    "        res.append(i)\n",
    "print(\"Remove Duplicates :\",res)"
   ]
  },
  {
   "cell_type": "code",
   "execution_count": 11,
   "id": "6366b9cd",
   "metadata": {},
   "outputs": [
    {
     "name": "stdout",
     "output_type": "stream",
     "text": [
      "True\n",
      "Lists have at least one common member\n"
     ]
    }
   ],
   "source": [
    "#common member\n",
    "list1=[1,2,3,4,5]\n",
    "list2=[5,6,7,8,9]\n",
    "result = False\n",
    "for x in list1:\n",
    " for y in list2:\n",
    "    if x == y:\n",
    "        result = True\n",
    "        print(result)\n",
    "if result:\n",
    "    print(\"Lists have at least one common member\")\n",
    "else:\n",
    "    print(\"Lists do not have any common member\")"
   ]
  },
  {
   "cell_type": "code",
   "execution_count": null,
   "id": "68d4dfea",
   "metadata": {},
   "outputs": [],
   "source": []
  }
 ],
 "metadata": {
  "kernelspec": {
   "display_name": "Python 3 (ipykernel)",
   "language": "python",
   "name": "python3"
  },
  "language_info": {
   "codemirror_mode": {
    "name": "ipython",
    "version": 3
   },
   "file_extension": ".py",
   "mimetype": "text/x-python",
   "name": "python",
   "nbconvert_exporter": "python",
   "pygments_lexer": "ipython3",
   "version": "3.10.12"
  }
 },
 "nbformat": 4,
 "nbformat_minor": 5
}
